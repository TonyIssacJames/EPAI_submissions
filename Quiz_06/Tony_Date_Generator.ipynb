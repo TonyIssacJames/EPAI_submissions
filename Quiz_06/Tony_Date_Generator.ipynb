{
  "nbformat": 4,
  "nbformat_minor": 0,
  "metadata": {
    "colab": {
      "name": "Tony_Date_Generator.ipynb",
      "provenance": [],
      "collapsed_sections": [],
      "authorship_tag": "ABX9TyO2dK8nMbBF+F8lky9+q4xQ",
      "include_colab_link": true
    },
    "kernelspec": {
      "name": "python3",
      "display_name": "Python 3"
    }
  },
  "cells": [
    {
      "cell_type": "markdown",
      "metadata": {
        "id": "view-in-github",
        "colab_type": "text"
      },
      "source": [
        "<a href=\"https://colab.research.google.com/github/TonyIssacJames/EPAI_submissions/blob/master/Quiz_06/Tony_Date_Generator.ipynb\" target=\"_parent\"><img src=\"https://colab.research.google.com/assets/colab-badge.svg\" alt=\"Open In Colab\"/></a>"
      ]
    },
    {
      "cell_type": "code",
      "metadata": {
        "id": "Tzw8utakQULx",
        "colab_type": "code",
        "colab": {
          "base_uri": "https://localhost:8080/",
          "height": 34
        },
        "outputId": "bf18b1a8-024e-45cc-b372-78e1ce5bfa4c"
      },
      "source": [
        "import random\n",
        "\n",
        "from datetime import datetime\n",
        "print(datetime.now())\n"
      ],
      "execution_count": 51,
      "outputs": [
        {
          "output_type": "stream",
          "text": [
            "2020-09-06 21:40:03.477193\n"
          ],
          "name": "stdout"
        }
      ]
    },
    {
      "cell_type": "code",
      "metadata": {
        "id": "kZSrkOliQWTk",
        "colab_type": "code",
        "colab": {}
      },
      "source": [
        "def date_gen (start, end):\n",
        "  \"\"\" generates a date between start, end years\"\"\"\n",
        "  date =  min(int(random.random()* 31) + 1, 31)\n",
        "  month =  min(int(random.random() * 12)+ 1, 12)\n",
        "  year =  min(int(random.random() * (end -start) + start), end)\n",
        "\n",
        "  return date, month, year"
      ],
      "execution_count": 52,
      "outputs": []
    },
    {
      "cell_type": "code",
      "metadata": {
        "id": "5CiL-CK6VW9p",
        "colab_type": "code",
        "colab": {}
      },
      "source": [
        "months = [\"invalid\",\"Jan\", \"Feb\", \"Mar\", \"Apr\", \"May\", \"Jun\", \"July\", \"Aug\", \"Sep\", \"Oct\",\"Nov\", \"Dec\"]\n",
        "\n",
        "days = [\"th\", \"st\", \"nd\", \"rd\", \"th\", \"th\",\"th\",\"th\",\"th\",\"th\",\"th\",\"th\",\"th\"]"
      ],
      "execution_count": 53,
      "outputs": []
    },
    {
      "cell_type": "code",
      "metadata": {
        "id": "lTjfOmTwSI2Z",
        "colab_type": "code",
        "colab": {}
      },
      "source": [
        "def date_str(date, month, year):\n",
        "  \"\"\" coverts the date in numbers to a printable string like 1th, Jun, 1992\"\"\"\n",
        "  date_suffix = \"th\"\n",
        "  if date//10 != 1:\n",
        "    date_suffix = days[date%10]\n",
        "  month_str  = months[month]\n",
        "\n",
        "  print(\"{}{}, {}, {}.\".format(date,date_suffix,month_str,year   ))\n"
      ],
      "execution_count": 54,
      "outputs": []
    },
    {
      "cell_type": "code",
      "metadata": {
        "id": "ODEOKkeNRRuz",
        "colab_type": "code",
        "colab": {
          "base_uri": "https://localhost:8080/",
          "height": 461
        },
        "outputId": "b83a3bed-eb55-43ac-e103-a19df5886630"
      },
      "source": [
        "for i in range(25):\n",
        "  date, month, year  = date_gen (1901,2020)\n",
        "  #print(date, month, year)\n",
        "  date_str(date, month, year)"
      ],
      "execution_count": 55,
      "outputs": [
        {
          "output_type": "stream",
          "text": [
            "19th, Dec, 2019.\n",
            "1st, Jan, 1993.\n",
            "28th, May, 1991.\n",
            "17th, May, 1929.\n",
            "14th, Oct, 1969.\n",
            "3rd, Sep, 2017.\n",
            "17th, Oct, 1995.\n",
            "28th, Nov, 1946.\n",
            "31st, Sep, 1969.\n",
            "23rd, Apr, 1930.\n",
            "15th, Jun, 2008.\n",
            "13th, Sep, 1902.\n",
            "9th, Sep, 1948.\n",
            "11th, July, 1932.\n",
            "28th, Nov, 1960.\n",
            "15th, Jan, 1922.\n",
            "14th, Dec, 1933.\n",
            "13th, Apr, 1943.\n",
            "8th, Jun, 2000.\n",
            "9th, Jun, 1937.\n",
            "11th, Mar, 2012.\n",
            "26th, Jan, 1912.\n",
            "13th, May, 1974.\n",
            "3rd, Nov, 2014.\n",
            "19th, Aug, 1948.\n"
          ],
          "name": "stdout"
        }
      ]
    },
    {
      "cell_type": "code",
      "metadata": {
        "id": "QL6OzqmoRPG5",
        "colab_type": "code",
        "colab": {}
      },
      "source": [
        ""
      ],
      "execution_count": null,
      "outputs": []
    }
  ]
}
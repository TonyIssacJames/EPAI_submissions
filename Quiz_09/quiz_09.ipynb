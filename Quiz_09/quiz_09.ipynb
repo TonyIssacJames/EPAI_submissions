{
  "nbformat": 4,
  "nbformat_minor": 0,
  "metadata": {
    "colab": {
      "name": "Untitled22.ipynb",
      "provenance": [],
      "authorship_tag": "ABX9TyPyMpbgpM9aqF5aXxwTpv6Q",
      "include_colab_link": true
    },
    "kernelspec": {
      "name": "python3",
      "display_name": "Python 3"
    }
  },
  "cells": [
    {
      "cell_type": "markdown",
      "metadata": {
        "id": "view-in-github",
        "colab_type": "text"
      },
      "source": [
        "<a href=\"https://colab.research.google.com/github/TonyIssacJames/EPAI_submissions/blob/master/Quiz_09/quiz_09.ipynb\" target=\"_parent\"><img src=\"https://colab.research.google.com/assets/colab-badge.svg\" alt=\"Open In Colab\"/></a>"
      ]
    },
    {
      "cell_type": "code",
      "metadata": {
        "id": "UclQNqqqeYgg"
      },
      "source": [
        "india_capacity = {'tanks':4292, 'soldiers':1444500, 'f_jets':538, 'aircraft_carriers':1, 'nuclear_bombs':120}\n",
        "usa_capacity   = {'tanks':6289, 'soldiers':1359450, 'f_jets':2085, 'aircraft_carriers':20, 'nuclear_bombs':6970}\n",
        "china_capacity   = {'tanks':3500, 'soldiers':2035000, 'f_jets':1232, 'aircraft_carriers':2, 'nuclear_bombs':260}\n",
        "pakistan_capacity   = {'tanks':2200, 'soldiers':653800, 'f_jets':356, 'aircraft_carriers':0, 'nuclear_bombs':110}\n",
        "uk_capacity   = {'tanks':227, 'soldiers':148350, 'f_jets':133, 'aircraft_carriers':2, 'nuclear_bombs':215}\n",
        "russia_capacity   = {'tanks':12950, 'soldiers':900000, 'f_jets':873, 'aircraft_carriers':1, 'nuclear_bombs':7300}"
      ],
      "execution_count": 1,
      "outputs": []
    },
    {
      "cell_type": "code",
      "metadata": {
        "id": "ifj6frcWfpoI"
      },
      "source": [
        ""
      ],
      "execution_count": null,
      "outputs": []
    }
  ]
}
{
  "nbformat": 4,
  "nbformat_minor": 0,
  "metadata": {
    "colab": {
      "name": "Untitled22.ipynb",
      "provenance": [],
      "authorship_tag": "ABX9TyOlVmYodZgRyO4vSD9l8PUL",
      "include_colab_link": true
    },
    "kernelspec": {
      "name": "python3",
      "display_name": "Python 3"
    },
    "accelerator": "GPU"
  },
  "cells": [
    {
      "cell_type": "markdown",
      "metadata": {
        "id": "view-in-github",
        "colab_type": "text"
      },
      "source": [
        "<a href=\"https://colab.research.google.com/github/TonyIssacJames/EPAI_submissions/blob/master/Quiz_09/quiz_09.ipynb\" target=\"_parent\"><img src=\"https://colab.research.google.com/assets/colab-badge.svg\" alt=\"Open In Colab\"/></a>"
      ]
    },
    {
      "cell_type": "code",
      "metadata": {
        "id": "UclQNqqqeYgg"
      },
      "source": [
        ""
      ],
      "execution_count": 1,
      "outputs": []
    },
    {
      "cell_type": "markdown",
      "metadata": {
        "id": "zC1eTUkSrGKB"
      },
      "source": [
        "Write a War Games class that has:\n",
        "\n",
        "tanks(100 strength points SP),\n",
        "soldiers(1 SP),\n",
        "fighter jets(1000 SP),\n",
        "aircraft carriers(10000 SP),\n",
        "nuclear bombs (10000000 SP).\n",
        "Look at actual records for the US, Russia, UK, Pakistan, India, China. Randomly divide these countries into 2 lists L1 & L2. \n",
        "\n",
        "Write a decorator that multiplies these numbers with a random number drawn between 0.5-1.5 whenever you create a new object (US, India, etc).\n",
        "\n",
        "Calculate total random strength (total number of soldiers * SP + total tanks * SP + ...).\n",
        "\n",
        "Compare L1[0] with L2[0], then L1[1] with L2[1], and so on... (add compare functionality via Monkey Patching, i.e. this comparison function is not a part of the original class).\n",
        "\n",
        " \n",
        "\n",
        "In each comparison (a war), a higher-strength country loses 25% of its strength and the lower-strength country loses 50%. Once a country reaches 10% of its original strength it is considered lost and is out of the competition (to keep it simple, all assets are now 0).\n",
        "\n",
        " \n",
        "\n",
        "Run this simulation and report which List won.\n"
      ]
    },
    {
      "cell_type": "code",
      "metadata": {
        "id": "WbxpESBAib1s",
        "outputId": "b646f9f6-998f-42cc-d76d-45957c9d845b",
        "colab": {
          "base_uri": "https://localhost:8080/",
          "height": 34
        }
      },
      "source": [
        "import random\n",
        "\n",
        "from datetime import datetime\n",
        "print(datetime.now())"
      ],
      "execution_count": 7,
      "outputs": [
        {
          "output_type": "stream",
          "text": [
            "2020-09-26 17:50:44.333681\n"
          ],
          "name": "stdout"
        }
      ]
    },
    {
      "cell_type": "code",
      "metadata": {
        "id": "WffkBwDKiguI"
      },
      "source": [
        ""
      ],
      "execution_count": 58,
      "outputs": []
    },
    {
      "cell_type": "code",
      "metadata": {
        "id": "qGvAWQZjig-e"
      },
      "source": [
        ""
      ],
      "execution_count": null,
      "outputs": []
    },
    {
      "cell_type": "code",
      "metadata": {
        "id": "ifj6frcWfpoI"
      },
      "source": [
        ""
      ],
      "execution_count": 58,
      "outputs": []
    },
    {
      "cell_type": "code",
      "metadata": {
        "id": "5aEAj9z6gj99"
      },
      "source": [
        "strengh_points = {'tanks':100, 'soldiers':1, 'f_jets':1000, 'aircraft_carriers':10000, 'nuclear_bombs':10000000}"
      ],
      "execution_count": 59,
      "outputs": []
    },
    {
      "cell_type": "code",
      "metadata": {
        "id": "DvyvcAPthPrT"
      },
      "source": [
        "def team_splitter(c_name_list):\n",
        "  \"\"\"splits the country in to two lists \"\"\"\n",
        "  L1 = []\n",
        "  L2 = []\n",
        "  for country in country_name_list:\n",
        "    if random.random() > 0.5:\n",
        "      L1.append(country) \n",
        "    else:\n",
        "      L2.append(country)\n",
        "\n",
        "  return L1, L2\n"
      ],
      "execution_count": 61,
      "outputs": []
    },
    {
      "cell_type": "code",
      "metadata": {
        "id": "ttqWg6rDhbOs"
      },
      "source": [
        "def random_weight_SP(calc_SP):\n",
        "  def calc_weighted_SP(country_capcity, strengh_points):\n",
        "    weight = random.random() + 0.5\n",
        "    print(\"weight used: \", weight)\n",
        "    return weight*calc_SP(country_capcity, strengh_points)\n",
        "  return calc_weighted_SP"
      ],
      "execution_count": 66,
      "outputs": []
    },
    {
      "cell_type": "code",
      "metadata": {
        "id": "R2bC7LQThbVu"
      },
      "source": [
        "@random_weight_SP\n",
        "def calc_SP(country_capcity, strengh_points):\n",
        "  \"\"\" calculate the SP of a country \"\"\"\n",
        "  total_SP = 0.0\n",
        "  for asset in country_capcity:\n",
        "    total_SP += country_capcity[asset]*strengh_points[asset]\n",
        "  return total_SP\n",
        "    "
      ],
      "execution_count": 111,
      "outputs": []
    },
    {
      "cell_type": "code",
      "metadata": {
        "id": "C3DiXYMUlwOY",
        "outputId": "4b57edae-13c8-4c20-8414-8c270347968c",
        "colab": {
          "base_uri": "https://localhost:8080/",
          "height": 52
        }
      },
      "source": [
        "#test the function \n",
        "print(calc_SP(russia_capacity, strengh_points))"
      ],
      "execution_count": 70,
      "outputs": [
        {
          "output_type": "stream",
          "text": [
            "weight used:  0.5130935967037737\n",
            "37457411861.46614\n"
          ],
          "name": "stdout"
        }
      ]
    },
    {
      "cell_type": "code",
      "metadata": {
        "id": "ge5e0Fi78zPK"
      },
      "source": [
        "def random_weight_SP(calc_SP):\n",
        "  def calc_weighted_SP(country_capcity, strengh_points):\n",
        "    weight = random.random() + 0.5\n",
        "    print(\"weight used: \", weight)\n",
        "    return weight*calc_SP(country_capcity, strengh_points)\n",
        "  return calc_weighted_SP"
      ],
      "execution_count": null,
      "outputs": []
    },
    {
      "cell_type": "code",
      "metadata": {
        "id": "_J6f5d6QhbY2"
      },
      "source": [
        "import copy\n",
        "\n",
        "def applyrandom_weight(func):\n",
        "  def apply_weight(self, x):\n",
        "    weight = random.random() + 0.5\n",
        "    return int(weight*func(x) + 0.5) #rounding\n",
        "  return apply_weight\n",
        "\n",
        "\n",
        "class Country:\n",
        "  # a static lists and dictionaries to do the data keeping\n",
        "  india_capacity = {'tanks':4292, 'soldiers':1444500, 'f_jets':538, 'aircraft_carriers':1, 'nuclear_bombs':120}\n",
        "  usa_capacity   = {'tanks':6289, 'soldiers':1359450, 'f_jets':2085, 'aircraft_carriers':20, 'nuclear_bombs':6970}\n",
        "  china_capacity   = {'tanks':3500, 'soldiers':2035000, 'f_jets':1232, 'aircraft_carriers':2, 'nuclear_bombs':260}\n",
        "  pakistan_capacity   = {'tanks':2200, 'soldiers':653800, 'f_jets':356, 'aircraft_carriers':0, 'nuclear_bombs':110}\n",
        "  uk_capacity   = {'tanks':227, 'soldiers':148350, 'f_jets':133, 'aircraft_carriers':2, 'nuclear_bombs':215}\n",
        "  russia_capacity   = {'tanks':12950, 'soldiers':900000, 'f_jets':873, 'aircraft_carriers':1, 'nuclear_bombs':7300}\n",
        "\n",
        "  country_name_list = {'india':india_capacity , 'usa':usa_capacity, 'china': china_capacity, 'pakistan':pakistan_capacity, 'uk':uk_capacity, 'russia':russia_capacity}\n",
        "\n",
        "  strengh_points = {'tanks':100, 'soldiers':1, 'f_jets':1000, 'aircraft_carriers':10000, 'nuclear_bombs':10000000}\n",
        "\n",
        "  @staticmethod\n",
        "  def calc_SP(country_name):\n",
        "    \"\"\" calculate the SP of a country \"\"\"\n",
        "    total_SP = 0.0\n",
        "    country_capcity = Country.country_name_list[country_name]\n",
        "    for asset in country_capcity:\n",
        "      total_SP += country_capcity[asset]*Country.strengh_points[asset]\n",
        "    return total_SP\n",
        "\n",
        "  @staticmethod\n",
        "  def get_countries_list():\n",
        "    countries_list = []\n",
        "    for country in Country.country_name_list:\n",
        "      countries_list.append(country)\n",
        "    return countries_list\n",
        "\n",
        "\n",
        "  def __init__(self, country_name):\n",
        "        self.country_name = country_name\n",
        "        self.capacity     = copy.deepcopy(Country.country_name_list[self.country_name])\n",
        "        \n",
        "\n",
        "        for asset in self.capacity:\n",
        "          self.capacity[asset] = self.pass_through_assests(self.capacity[asset])\n",
        "\n",
        "        self.original_SP  = self.get_asset_SP()\n",
        "\n",
        "\n",
        "  def __repr__(self):\n",
        "    return 'Country:{0}- SP: {1}'.format(self.country_name, self.capacity)\n",
        "\n",
        "  def __str__(self):\n",
        "    return 'Country:{0}- SP: {1}'.format(self.country_name, self.capacity)\n",
        "\n",
        "  def get_assests(self):\n",
        "    return self.capacity\n",
        "\n",
        "  @applyrandom_weight\n",
        "  def pass_through_assests(x):\n",
        "      return int(x)\n",
        "\n",
        "  def get_asset_SP(self):\n",
        "    total_SP = 0.0\n",
        "    country_capcity = self.capacity\n",
        "    for asset in country_capcity:\n",
        "      total_SP += country_capcity[asset]*Country.strengh_points[asset]\n",
        "    return total_SP    \n",
        "\n",
        "  def won_war(self):\n",
        "    for asset in self.capacity:\n",
        "      self.capacity[asset] = self.capacity[asset]*3//4\n",
        "\n",
        "  def lost_war(self):\n",
        "    for asset in self.capacity:\n",
        "      self.capacity[asset] = self.capacity[asset]//2\n",
        "\n",
        "  def null_assets(self):\n",
        "    for asset in self.capacity:\n",
        "      self.capacity[asset] = 0\n",
        "\n",
        "  def orginal_SP(self):\n",
        "    return self.original_SP\n",
        "\n",
        "  def get_name(self):\n",
        "    return self.country_name"
      ],
      "execution_count": 181,
      "outputs": []
    },
    {
      "cell_type": "code",
      "metadata": {
        "id": "8sIk-L7nhbbJ"
      },
      "source": [
        ""
      ],
      "execution_count": 71,
      "outputs": []
    },
    {
      "cell_type": "code",
      "metadata": {
        "id": "KOxuejkAhbdV"
      },
      "source": [
        "def get_next_item_in_list(list_item):\n",
        "\n",
        "    count = 0\n",
        "    def inner(list_item):\n",
        "\n",
        "        nonlocal count\n",
        "        tmp = count % len(list_item)\n",
        "        count += 1\n",
        "        return list_item[tmp]\n",
        "\n",
        "    return inner\n"
      ],
      "execution_count": 179,
      "outputs": []
    },
    {
      "cell_type": "code",
      "metadata": {
        "id": "JVWUgP1Fiaxf"
      },
      "source": [
        ""
      ],
      "execution_count": null,
      "outputs": []
    },
    {
      "cell_type": "markdown",
      "metadata": {
        "id": "jV-QtqlAuTfm"
      },
      "source": [
        "## War begins"
      ]
    },
    {
      "cell_type": "code",
      "metadata": {
        "id": "jiZ8LFsbhbfv",
        "outputId": "7312fe34-e3a2-4ebf-f949-8eac2871d7bd",
        "colab": {
          "base_uri": "https://localhost:8080/",
          "height": 52
        }
      },
      "source": [
        "L1, L2 = team_splitter(Country.get_countries_list())\n",
        "\n",
        "print(\"Team 1: \",L1)\n",
        "print(\"Team 2: \",L2)"
      ],
      "execution_count": 155,
      "outputs": [
        {
          "output_type": "stream",
          "text": [
            "Team 1:  ['pakistan', 'russia']\n",
            "Team 2:  ['india', 'usa', 'china', 'uk']\n"
          ],
          "name": "stdout"
        }
      ]
    },
    {
      "cell_type": "code",
      "metadata": {
        "id": "azrLuN2rhbiE",
        "outputId": "d29d4a4d-4ada-454f-fae1-2800ea9644d7",
        "colab": {
          "base_uri": "https://localhost:8080/",
          "height": 54
        }
      },
      "source": [
        "Team1 = [Country(country) for country in L1]\n",
        "Team2 = [Country(country) for country in L2]\n",
        "\n",
        "\n",
        "print(Team1, Team2)"
      ],
      "execution_count": 182,
      "outputs": [
        {
          "output_type": "stream",
          "text": [
            "[Country:pakistan- SP: {'tanks': 3169, 'soldiers': 670734, 'f_jets': 299, 'aircraft_carriers': 0, 'nuclear_bombs': 149}, Country:russia- SP: {'tanks': 12965, 'soldiers': 1100467, 'f_jets': 535, 'aircraft_carriers': 1, 'nuclear_bombs': 4154}] [Country:india- SP: {'tanks': 5553, 'soldiers': 2107060, 'f_jets': 552, 'aircraft_carriers': 1, 'nuclear_bombs': 111}, Country:usa- SP: {'tanks': 5572, 'soldiers': 828148, 'f_jets': 2095, 'aircraft_carriers': 25, 'nuclear_bombs': 3637}, Country:china- SP: {'tanks': 3809, 'soldiers': 2707000, 'f_jets': 1788, 'aircraft_carriers': 2, 'nuclear_bombs': 354}, Country:uk- SP: {'tanks': 308, 'soldiers': 83966, 'f_jets': 94, 'aircraft_carriers': 1, 'nuclear_bombs': 125}]\n"
          ],
          "name": "stdout"
        }
      ]
    },
    {
      "cell_type": "code",
      "metadata": {
        "id": "bEhos-zJhbke"
      },
      "source": [
        "\n",
        "get_next_item_L1 = get_next_item_in_list(Team1)\n",
        "get_next_item_L2 = get_next_item_in_list(Team2)"
      ],
      "execution_count": 184,
      "outputs": []
    },
    {
      "cell_type": "code",
      "metadata": {
        "id": "z5CDNvhDhbmm",
        "outputId": "52cd1df7-23ad-44f8-d622-d504c74e538a",
        "colab": {
          "base_uri": "https://localhost:8080/",
          "height": 1000
        }
      },
      "source": [
        "#count = 0\n",
        "while len(Team1) > 0 and len(Team2) > 0:\n",
        "  print(\"---------------------------------------------\")\n",
        "  print(\"Fight Begins\")\n",
        "  L1_cnt = get_next_item_L1(Team1)\n",
        "  L2_cnt = get_next_item_L2(Team2)\n",
        "  #count += 1\n",
        "  print(L1_cnt)\n",
        "  print(\"vs\")\n",
        "  print(L2_cnt)\n",
        "\n",
        "  L1_cnt_val = L1_cnt.get_asset_SP()\n",
        "  L2_cnt_val = L2_cnt.get_asset_SP()\n",
        "\n",
        "  if L1_cnt_val >= L2_cnt_val:\n",
        "    L1_cnt.won_war()\n",
        "    L2_cnt.lost_war()\n",
        "    print(\"{} won aganist {} \".format(L1_cnt.get_name(), L2_cnt.get_name()))\n",
        "  else:\n",
        "    L1_cnt.lost_war()\n",
        "    L2_cnt.won_war()\n",
        "    print(\"{} won aganist {} \".format(L2_cnt.get_name(), L1_cnt.get_name()))\n",
        "\n",
        "  if L1_cnt.get_asset_SP() < 0.1 * L1_cnt.orginal_SP():\n",
        "    L1_cnt.null_assets()\n",
        "    Team1.remove(L1_cnt)\n",
        "    print(\"{} removed \".format(L1_cnt.get_name()))\n",
        "\n",
        "  if L2_cnt.get_asset_SP() < 0.1 * L2_cnt.orginal_SP():\n",
        "    L2_cnt.null_assets()\n",
        "    Team2.remove(L2_cnt)\n",
        "    print(\"{} removed \".format(L2_cnt.get_name()))\n",
        "\n",
        "if  len(Team1) > 0 :\n",
        "  print(\"Team 1 won: \",Team1)\n",
        "if  len(Team2) > 0 :\n",
        "  print(\"Team 2 won: \",Team2)\n",
        "\n",
        "if  len(Team1) == 0 and len(Team2) == 0:\n",
        "  print(\"We destroyed each other \")\n"
      ],
      "execution_count": 185,
      "outputs": [
        {
          "output_type": "stream",
          "text": [
            "---------------------------------------------\n",
            "Fight Begins\n",
            "Country:pakistan- SP: {'tanks': 3169, 'soldiers': 670734, 'f_jets': 299, 'aircraft_carriers': 0, 'nuclear_bombs': 149}\n",
            "vs\n",
            "Country:india- SP: {'tanks': 5553, 'soldiers': 2107060, 'f_jets': 552, 'aircraft_carriers': 1, 'nuclear_bombs': 111}\n",
            "pakistan won aganist india \n",
            "---------------------------------------------\n",
            "Fight Begins\n",
            "Country:russia- SP: {'tanks': 12965, 'soldiers': 1100467, 'f_jets': 535, 'aircraft_carriers': 1, 'nuclear_bombs': 4154}\n",
            "vs\n",
            "Country:usa- SP: {'tanks': 5572, 'soldiers': 828148, 'f_jets': 2095, 'aircraft_carriers': 25, 'nuclear_bombs': 3637}\n",
            "russia won aganist usa \n",
            "---------------------------------------------\n",
            "Fight Begins\n",
            "Country:pakistan- SP: {'tanks': 2376, 'soldiers': 503050, 'f_jets': 224, 'aircraft_carriers': 0, 'nuclear_bombs': 111}\n",
            "vs\n",
            "Country:china- SP: {'tanks': 3809, 'soldiers': 2707000, 'f_jets': 1788, 'aircraft_carriers': 2, 'nuclear_bombs': 354}\n",
            "china won aganist pakistan \n",
            "---------------------------------------------\n",
            "Fight Begins\n",
            "Country:russia- SP: {'tanks': 9723, 'soldiers': 825350, 'f_jets': 401, 'aircraft_carriers': 0, 'nuclear_bombs': 3115}\n",
            "vs\n",
            "Country:uk- SP: {'tanks': 308, 'soldiers': 83966, 'f_jets': 94, 'aircraft_carriers': 1, 'nuclear_bombs': 125}\n",
            "russia won aganist uk \n",
            "---------------------------------------------\n",
            "Fight Begins\n",
            "Country:pakistan- SP: {'tanks': 1188, 'soldiers': 251525, 'f_jets': 112, 'aircraft_carriers': 0, 'nuclear_bombs': 55}\n",
            "vs\n",
            "Country:india- SP: {'tanks': 2776, 'soldiers': 1053530, 'f_jets': 276, 'aircraft_carriers': 0, 'nuclear_bombs': 55}\n",
            "india won aganist pakistan \n",
            "---------------------------------------------\n",
            "Fight Begins\n",
            "Country:russia- SP: {'tanks': 7292, 'soldiers': 619012, 'f_jets': 300, 'aircraft_carriers': 0, 'nuclear_bombs': 2336}\n",
            "vs\n",
            "Country:usa- SP: {'tanks': 2786, 'soldiers': 414074, 'f_jets': 1047, 'aircraft_carriers': 12, 'nuclear_bombs': 1818}\n",
            "russia won aganist usa \n",
            "---------------------------------------------\n",
            "Fight Begins\n",
            "Country:pakistan- SP: {'tanks': 594, 'soldiers': 125762, 'f_jets': 56, 'aircraft_carriers': 0, 'nuclear_bombs': 27}\n",
            "vs\n",
            "Country:china- SP: {'tanks': 2856, 'soldiers': 2030250, 'f_jets': 1341, 'aircraft_carriers': 1, 'nuclear_bombs': 265}\n",
            "china won aganist pakistan \n",
            "pakistan removed \n",
            "---------------------------------------------\n",
            "Fight Begins\n",
            "Country:russia- SP: {'tanks': 5469, 'soldiers': 464259, 'f_jets': 225, 'aircraft_carriers': 0, 'nuclear_bombs': 1752}\n",
            "vs\n",
            "Country:uk- SP: {'tanks': 154, 'soldiers': 41983, 'f_jets': 47, 'aircraft_carriers': 0, 'nuclear_bombs': 62}\n",
            "russia won aganist uk \n",
            "---------------------------------------------\n",
            "Fight Begins\n",
            "Country:russia- SP: {'tanks': 4101, 'soldiers': 348194, 'f_jets': 168, 'aircraft_carriers': 0, 'nuclear_bombs': 1314}\n",
            "vs\n",
            "Country:india- SP: {'tanks': 2082, 'soldiers': 790147, 'f_jets': 207, 'aircraft_carriers': 0, 'nuclear_bombs': 41}\n",
            "russia won aganist india \n",
            "---------------------------------------------\n",
            "Fight Begins\n",
            "Country:russia- SP: {'tanks': 3075, 'soldiers': 261145, 'f_jets': 126, 'aircraft_carriers': 0, 'nuclear_bombs': 985}\n",
            "vs\n",
            "Country:usa- SP: {'tanks': 1393, 'soldiers': 207037, 'f_jets': 523, 'aircraft_carriers': 6, 'nuclear_bombs': 909}\n",
            "russia won aganist usa \n",
            "---------------------------------------------\n",
            "Fight Begins\n",
            "Country:russia- SP: {'tanks': 2306, 'soldiers': 195858, 'f_jets': 94, 'aircraft_carriers': 0, 'nuclear_bombs': 738}\n",
            "vs\n",
            "Country:china- SP: {'tanks': 2142, 'soldiers': 1522687, 'f_jets': 1005, 'aircraft_carriers': 0, 'nuclear_bombs': 198}\n",
            "russia won aganist china \n",
            "---------------------------------------------\n",
            "Fight Begins\n",
            "Country:russia- SP: {'tanks': 1729, 'soldiers': 146893, 'f_jets': 70, 'aircraft_carriers': 0, 'nuclear_bombs': 553}\n",
            "vs\n",
            "Country:uk- SP: {'tanks': 77, 'soldiers': 20991, 'f_jets': 23, 'aircraft_carriers': 0, 'nuclear_bombs': 31}\n",
            "russia won aganist uk \n",
            "russia removed \n",
            "Team 2 won:  [Country:india- SP: {'tanks': 1041, 'soldiers': 395073, 'f_jets': 103, 'aircraft_carriers': 0, 'nuclear_bombs': 20}, Country:usa- SP: {'tanks': 696, 'soldiers': 103518, 'f_jets': 261, 'aircraft_carriers': 3, 'nuclear_bombs': 454}, Country:china- SP: {'tanks': 1071, 'soldiers': 761343, 'f_jets': 502, 'aircraft_carriers': 0, 'nuclear_bombs': 99}, Country:uk- SP: {'tanks': 38, 'soldiers': 10495, 'f_jets': 11, 'aircraft_carriers': 0, 'nuclear_bombs': 15}]\n"
          ],
          "name": "stdout"
        }
      ]
    },
    {
      "cell_type": "code",
      "metadata": {
        "id": "U5a9bwWm3Ixn"
      },
      "source": [
        "\n"
      ],
      "execution_count": 185,
      "outputs": []
    },
    {
      "cell_type": "code",
      "metadata": {
        "id": "lM4ZtS_B3I0O",
        "outputId": "5e9352e9-e824-4ab8-b39d-dcf90438eb87",
        "colab": {
          "base_uri": "https://localhost:8080/",
          "height": 34
        }
      },
      "source": [
        ""
      ],
      "execution_count": 82,
      "outputs": [
        {
          "output_type": "stream",
          "text": [
            "2\n"
          ],
          "name": "stdout"
        }
      ]
    },
    {
      "cell_type": "code",
      "metadata": {
        "id": "EXsXT0je3I7K"
      },
      "source": [
        ""
      ],
      "execution_count": null,
      "outputs": []
    },
    {
      "cell_type": "code",
      "metadata": {
        "id": "9luwtSpw3JAB"
      },
      "source": [
        ""
      ],
      "execution_count": null,
      "outputs": []
    },
    {
      "cell_type": "code",
      "metadata": {
        "id": "tfKr2Sqq3I9w"
      },
      "source": [
        ""
      ],
      "execution_count": null,
      "outputs": []
    },
    {
      "cell_type": "code",
      "metadata": {
        "id": "6I2JoH5T3I5N"
      },
      "source": [
        ""
      ],
      "execution_count": null,
      "outputs": []
    },
    {
      "cell_type": "code",
      "metadata": {
        "id": "xco16T8M3I3e"
      },
      "source": [
        ""
      ],
      "execution_count": null,
      "outputs": []
    },
    {
      "cell_type": "code",
      "metadata": {
        "id": "1MV2vaWZhbpA",
        "outputId": "e74e45a4-1b61-450b-910b-c2ffdec0e253",
        "colab": {
          "base_uri": "https://localhost:8080/",
          "height": 34
        }
      },
      "source": [
        "print(datetime.now())"
      ],
      "execution_count": 110,
      "outputs": [
        {
          "output_type": "stream",
          "text": [
            "2020-09-26 19:45:24.668371\n"
          ],
          "name": "stdout"
        }
      ]
    }
  ]
}
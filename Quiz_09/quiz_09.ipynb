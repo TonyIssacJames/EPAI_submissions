{
  "nbformat": 4,
  "nbformat_minor": 0,
  "metadata": {
    "colab": {
      "name": "Untitled22.ipynb",
      "provenance": [],
      "authorship_tag": "ABX9TyNkhqqMAm9i5SUNGgqI0TkD",
      "include_colab_link": true
    },
    "kernelspec": {
      "name": "python3",
      "display_name": "Python 3"
    },
    "accelerator": "GPU"
  },
  "cells": [
    {
      "cell_type": "markdown",
      "metadata": {
        "id": "view-in-github",
        "colab_type": "text"
      },
      "source": [
        "<a href=\"https://colab.research.google.com/github/TonyIssacJames/EPAI_submissions/blob/master/Quiz_09/quiz_09.ipynb\" target=\"_parent\"><img src=\"https://colab.research.google.com/assets/colab-badge.svg\" alt=\"Open In Colab\"/></a>"
      ]
    },
    {
      "cell_type": "code",
      "metadata": {
        "id": "UclQNqqqeYgg"
      },
      "source": [
        ""
      ],
      "execution_count": 1,
      "outputs": []
    },
    {
      "cell_type": "markdown",
      "metadata": {
        "id": "zC1eTUkSrGKB"
      },
      "source": [
        "Write a War Games class that has:\n",
        "\n",
        "tanks(100 strength points SP),\n",
        "soldiers(1 SP),\n",
        "fighter jets(1000 SP),\n",
        "aircraft carriers(10000 SP),\n",
        "nuclear bombs (10000000 SP).\n",
        "Look at actual records for the US, Russia, UK, Pakistan, India, China. Randomly divide these countries into 2 lists L1 & L2. \n",
        "\n",
        "Write a decorator that multiplies these numbers with a random number drawn between 0.5-1.5 whenever you create a new object (US, India, etc).\n",
        "\n",
        "Calculate total random strength (total number of soldiers * SP + total tanks * SP + ...).\n",
        "\n",
        "Compare L1[0] with L2[0], then L1[1] with L2[1], and so on... (add compare functionality via Monkey Patching, i.e. this comparison function is not a part of the original class).\n",
        "\n",
        " \n",
        "\n",
        "In each comparison (a war), a higher-strength country loses 25% of its strength and the lower-strength country loses 50%. Once a country reaches 10% of its original strength it is considered lost and is out of the competition (to keep it simple, all assets are now 0).\n",
        "\n",
        " \n",
        "\n",
        "Run this simulation and report which List won.\n"
      ]
    },
    {
      "cell_type": "code",
      "metadata": {
        "id": "WbxpESBAib1s",
        "outputId": "b646f9f6-998f-42cc-d76d-45957c9d845b",
        "colab": {
          "base_uri": "https://localhost:8080/",
          "height": 34
        }
      },
      "source": [
        "import random\n",
        "\n",
        "from datetime import datetime\n",
        "print(datetime.now())"
      ],
      "execution_count": 7,
      "outputs": [
        {
          "output_type": "stream",
          "text": [
            "2020-09-26 17:50:44.333681\n"
          ],
          "name": "stdout"
        }
      ]
    },
    {
      "cell_type": "code",
      "metadata": {
        "id": "WffkBwDKiguI"
      },
      "source": [
        "india_capacity = {'tanks':4292, 'soldiers':1444500, 'f_jets':538, 'aircraft_carriers':1, 'nuclear_bombs':120}\n",
        "usa_capacity   = {'tanks':6289, 'soldiers':1359450, 'f_jets':2085, 'aircraft_carriers':20, 'nuclear_bombs':6970}\n",
        "china_capacity   = {'tanks':3500, 'soldiers':2035000, 'f_jets':1232, 'aircraft_carriers':2, 'nuclear_bombs':260}\n",
        "pakistan_capacity   = {'tanks':2200, 'soldiers':653800, 'f_jets':356, 'aircraft_carriers':0, 'nuclear_bombs':110}\n",
        "uk_capacity   = {'tanks':227, 'soldiers':148350, 'f_jets':133, 'aircraft_carriers':2, 'nuclear_bombs':215}\n",
        "russia_capacity   = {'tanks':12950, 'soldiers':900000, 'f_jets':873, 'aircraft_carriers':1, 'nuclear_bombs':7300}"
      ],
      "execution_count": 8,
      "outputs": []
    },
    {
      "cell_type": "code",
      "metadata": {
        "id": "qGvAWQZjig-e"
      },
      "source": [
        ""
      ],
      "execution_count": null,
      "outputs": []
    },
    {
      "cell_type": "code",
      "metadata": {
        "id": "ifj6frcWfpoI"
      },
      "source": [
        "country_cap_list = [india_capacity, usa_capacity, china_capacity, pakistan_capacity, uk_capacity, russia_capacity]\n",
        "country_name_list = {'india':india_capacity , 'usa':usa_capacity, 'china': china_capacity, 'pakistan':pakistan_capacity, 'uk':uk_capacity, 'russia':russia_capacity}"
      ],
      "execution_count": 23,
      "outputs": []
    },
    {
      "cell_type": "code",
      "metadata": {
        "id": "5aEAj9z6gj99"
      },
      "source": [
        "strengh_points = {'tanks':100, 'soldiers':1, 'f_jets':1000, 'aircraft_carriers':10000, 'nuclear_bombs':10000000}"
      ],
      "execution_count": 24,
      "outputs": []
    },
    {
      "cell_type": "code",
      "metadata": {
        "id": "DvyvcAPthPrT"
      },
      "source": [
        "def team_splitter(c_name_list):\n",
        "  \"\"\"splits the country in to two lists \"\"\"\n",
        "  L1 = []\n",
        "  L2 = []\n",
        "  for country in country_name_list:\n",
        "    if random.random() > 0.5:\n",
        "      L1.append(country) \n",
        "    else:\n",
        "      L2.append(country)\n",
        "\n",
        "  return L1, L2\n"
      ],
      "execution_count": 21,
      "outputs": []
    },
    {
      "cell_type": "code",
      "metadata": {
        "id": "ttqWg6rDhbOs",
        "outputId": "c492274f-444b-4693-fb3a-a1adaf6d307d",
        "colab": {
          "base_uri": "https://localhost:8080/",
          "height": 34
        }
      },
      "source": [
        "#test the function \n",
        "L1, L2 = team_splitter(country_name_list)\n",
        "\n",
        "print(L1, L2)"
      ],
      "execution_count": 30,
      "outputs": [
        {
          "output_type": "stream",
          "text": [
            "['india', 'usa', 'china', 'pakistan', 'russia'] ['uk']\n"
          ],
          "name": "stdout"
        }
      ]
    },
    {
      "cell_type": "code",
      "metadata": {
        "id": "R2bC7LQThbVu"
      },
      "source": [
        "def calc_SP(country_capcity, strengh_points):\n",
        "  \"\"\" calculate the SP of a country \"\"\"\n",
        "  total_SP = 0.0\n",
        "  for asset in country_capcity:\n",
        "    total_SP += country_capcity[asset]*strengh_points[asset]\n",
        "  return total_SP\n",
        "    "
      ],
      "execution_count": 31,
      "outputs": []
    },
    {
      "cell_type": "code",
      "metadata": {
        "id": "C3DiXYMUlwOY",
        "outputId": "56772136-32e1-4c70-afd8-7bc37452e249",
        "colab": {
          "base_uri": "https://localhost:8080/",
          "height": 34
        }
      },
      "source": [
        "#test the function \n",
        "print(calc_SP(russia_capacity, strengh_points))"
      ],
      "execution_count": 32,
      "outputs": [
        {
          "output_type": "stream",
          "text": [
            "73003078000.0\n"
          ],
          "name": "stdout"
        }
      ]
    },
    {
      "cell_type": "code",
      "metadata": {
        "id": "_J6f5d6QhbY2"
      },
      "source": [
        "class Country:\n",
        "  # a static lists and dictionaries to do the data keeping\n",
        "  india_capacity = {'tanks':4292, 'soldiers':1444500, 'f_jets':538, 'aircraft_carriers':1, 'nuclear_bombs':120}\n",
        "  usa_capacity   = {'tanks':6289, 'soldiers':1359450, 'f_jets':2085, 'aircraft_carriers':20, 'nuclear_bombs':6970}\n",
        "  china_capacity   = {'tanks':3500, 'soldiers':2035000, 'f_jets':1232, 'aircraft_carriers':2, 'nuclear_bombs':260}\n",
        "  pakistan_capacity   = {'tanks':2200, 'soldiers':653800, 'f_jets':356, 'aircraft_carriers':0, 'nuclear_bombs':110}\n",
        "  uk_capacity   = {'tanks':227, 'soldiers':148350, 'f_jets':133, 'aircraft_carriers':2, 'nuclear_bombs':215}\n",
        "  russia_capacity   = {'tanks':12950, 'soldiers':900000, 'f_jets':873, 'aircraft_carriers':1, 'nuclear_bombs':7300}\n",
        "\n",
        "  country_name_list = {'india':india_capacity , 'usa':usa_capacity, 'china': china_capacity, 'pakistan':pakistan_capacity, 'uk':uk_capacity, 'russia':russia_capacity}\n",
        "\n",
        "  strengh_points = {'tanks':100, 'soldiers':1, 'f_jets':1000, 'aircraft_carriers':10000, 'nuclear_bombs':10000000}\n",
        "\n",
        "  @staticmethod\n",
        "  def calc_SP(country_name):\n",
        "    \"\"\" calculate the SP of a country \"\"\"\n",
        "    total_SP = 0.0\n",
        "    country_capcity = Country.country_name_list[country_name]\n",
        "    for asset in country_capcity:\n",
        "      total_SP += country_capcity[asset]*Country.strengh_points[asset]\n",
        "    return total_SP\n",
        "\n",
        "  @staticmethod\n",
        "  def get_countries_list():\n",
        "    countries_list = []\n",
        "    for country in Country.country_name_list:\n",
        "      countries_list.append(country)\n",
        "    return countries_list\n",
        "\n",
        "\n",
        "  def __init__(self, country_name):\n",
        "        self.country_name = country_name\n",
        "        self.country_SP = Country.calc_SP(self.country_name)\n",
        "\n",
        "  def __repr__(self):\n",
        "    return 'Country:{0}- SP: {1}'.format(self.country_name, self.country_SP)\n",
        "\n",
        "  def __str__(self):\n",
        "    return 'Country:{0}- SP: {1}'.format(self.country_name, self.country_SP)"
      ],
      "execution_count": 43,
      "outputs": []
    },
    {
      "cell_type": "code",
      "metadata": {
        "id": "8sIk-L7nhbbJ",
        "outputId": "c33afa0b-2f2e-41b5-b02a-eb1d56ddad7f",
        "colab": {
          "base_uri": "https://localhost:8080/",
          "height": 194
        }
      },
      "source": [
        "for country in L1:\n",
        "  print(country)\n",
        "  print(Country(country))"
      ],
      "execution_count": 45,
      "outputs": [
        {
          "output_type": "stream",
          "text": [
            "india\n",
            "Country:india- SP: 1202421700.0\n",
            "usa\n",
            "Country:usa- SP: 69704273350.0\n",
            "china\n",
            "Country:china- SP: 2603637000.0\n",
            "pakistan\n",
            "Country:pakistan- SP: 1101229800.0\n",
            "russia\n",
            "Country:russia- SP: 73003078000.0\n"
          ],
          "name": "stdout"
        }
      ]
    },
    {
      "cell_type": "code",
      "metadata": {
        "id": "KOxuejkAhbdV"
      },
      "source": [
        ""
      ],
      "execution_count": 3,
      "outputs": []
    },
    {
      "cell_type": "code",
      "metadata": {
        "id": "JVWUgP1Fiaxf"
      },
      "source": [
        ""
      ],
      "execution_count": null,
      "outputs": []
    },
    {
      "cell_type": "code",
      "metadata": {
        "id": "jiZ8LFsbhbfv"
      },
      "source": [
        ""
      ],
      "execution_count": 3,
      "outputs": []
    },
    {
      "cell_type": "code",
      "metadata": {
        "id": "azrLuN2rhbiE"
      },
      "source": [
        ""
      ],
      "execution_count": 3,
      "outputs": []
    },
    {
      "cell_type": "code",
      "metadata": {
        "id": "bEhos-zJhbke"
      },
      "source": [
        ""
      ],
      "execution_count": 3,
      "outputs": []
    },
    {
      "cell_type": "code",
      "metadata": {
        "id": "z5CDNvhDhbmm"
      },
      "source": [
        ""
      ],
      "execution_count": 3,
      "outputs": []
    },
    {
      "cell_type": "code",
      "metadata": {
        "id": "1MV2vaWZhbpA"
      },
      "source": [
        ""
      ],
      "execution_count": null,
      "outputs": []
    }
  ]
}
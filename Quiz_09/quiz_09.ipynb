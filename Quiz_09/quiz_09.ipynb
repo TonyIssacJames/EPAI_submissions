{
  "nbformat": 4,
  "nbformat_minor": 0,
  "metadata": {
    "colab": {
      "name": "Untitled22.ipynb",
      "provenance": [],
      "authorship_tag": "ABX9TyPY87WA6F+T4AVfP5Obk7Rv",
      "include_colab_link": true
    },
    "kernelspec": {
      "name": "python3",
      "display_name": "Python 3"
    },
    "accelerator": "GPU"
  },
  "cells": [
    {
      "cell_type": "markdown",
      "metadata": {
        "id": "view-in-github",
        "colab_type": "text"
      },
      "source": [
        "<a href=\"https://colab.research.google.com/github/TonyIssacJames/EPAI_submissions/blob/master/Quiz_09/quiz_09.ipynb\" target=\"_parent\"><img src=\"https://colab.research.google.com/assets/colab-badge.svg\" alt=\"Open In Colab\"/></a>"
      ]
    },
    {
      "cell_type": "code",
      "metadata": {
        "id": "UclQNqqqeYgg"
      },
      "source": [
        ""
      ],
      "execution_count": 1,
      "outputs": []
    },
    {
      "cell_type": "code",
      "metadata": {
        "id": "WbxpESBAib1s",
        "outputId": "b646f9f6-998f-42cc-d76d-45957c9d845b",
        "colab": {
          "base_uri": "https://localhost:8080/",
          "height": 34
        }
      },
      "source": [
        "import random\n",
        "\n",
        "from datetime import datetime\n",
        "print(datetime.now())"
      ],
      "execution_count": 7,
      "outputs": [
        {
          "output_type": "stream",
          "text": [
            "2020-09-26 17:50:44.333681\n"
          ],
          "name": "stdout"
        }
      ]
    },
    {
      "cell_type": "code",
      "metadata": {
        "id": "WffkBwDKiguI"
      },
      "source": [
        "india_capacity = {'tanks':4292, 'soldiers':1444500, 'f_jets':538, 'aircraft_carriers':1, 'nuclear_bombs':120}\n",
        "usa_capacity   = {'tanks':6289, 'soldiers':1359450, 'f_jets':2085, 'aircraft_carriers':20, 'nuclear_bombs':6970}\n",
        "china_capacity   = {'tanks':3500, 'soldiers':2035000, 'f_jets':1232, 'aircraft_carriers':2, 'nuclear_bombs':260}\n",
        "pakistan_capacity   = {'tanks':2200, 'soldiers':653800, 'f_jets':356, 'aircraft_carriers':0, 'nuclear_bombs':110}\n",
        "uk_capacity   = {'tanks':227, 'soldiers':148350, 'f_jets':133, 'aircraft_carriers':2, 'nuclear_bombs':215}\n",
        "russia_capacity   = {'tanks':12950, 'soldiers':900000, 'f_jets':873, 'aircraft_carriers':1, 'nuclear_bombs':7300}"
      ],
      "execution_count": 8,
      "outputs": []
    },
    {
      "cell_type": "code",
      "metadata": {
        "id": "qGvAWQZjig-e"
      },
      "source": [
        ""
      ],
      "execution_count": null,
      "outputs": []
    },
    {
      "cell_type": "code",
      "metadata": {
        "id": "ifj6frcWfpoI"
      },
      "source": [
        "country_cap_list = [india_capacity, usa_capacity, china_capacity, pakistan_capacity, uk_capacity, russia_capacity]\n",
        "country_name_list = {'india':india_capacity , 'usa':usa_capacity, 'china': china_capacity, 'pakistan':pakistan_capacity, 'uk':uk_capacity, 'russia':russia_capacity}"
      ],
      "execution_count": 23,
      "outputs": []
    },
    {
      "cell_type": "code",
      "metadata": {
        "id": "5aEAj9z6gj99"
      },
      "source": [
        "strengh_points = {'tanks':100, 'soldiers':1, 'f_jets':1000, 'aircraft_carriers':10000, 'nuclear_bombs':10000000}"
      ],
      "execution_count": 24,
      "outputs": []
    },
    {
      "cell_type": "code",
      "metadata": {
        "id": "DvyvcAPthPrT"
      },
      "source": [
        "def team_splitter(c_name_list):\n",
        "  \"\"\"splits the country in to two lists \"\"\"\n",
        "  L1 = []\n",
        "  L2 = []\n",
        "  for country in country_name_list:\n",
        "    if random.random() > 0.5:\n",
        "      L1.append(country) \n",
        "    else:\n",
        "      L2.append(country)\n",
        "\n",
        "  return L1, L2\n"
      ],
      "execution_count": 21,
      "outputs": []
    },
    {
      "cell_type": "code",
      "metadata": {
        "id": "ttqWg6rDhbOs",
        "outputId": "08382ec5-656c-4fba-cc55-db9f509d799b",
        "colab": {
          "base_uri": "https://localhost:8080/",
          "height": 34
        }
      },
      "source": [
        "L1, L2 = team_splitter(country_name_list)\n",
        "\n",
        "print(L1, L2)"
      ],
      "execution_count": 25,
      "outputs": [
        {
          "output_type": "stream",
          "text": [
            "['usa', 'china', 'pakistan'] ['india', 'uk', 'russia']\n"
          ],
          "name": "stdout"
        }
      ]
    },
    {
      "cell_type": "code",
      "metadata": {
        "id": "R2bC7LQThbVu"
      },
      "source": [
        "def calc_SP(country_capcity, strengh_points):\n",
        "  \"\"\" calculate the SP of a country \"\"\"\n",
        "  total_SP = 0.0\n",
        "  for asset in country_capcity:\n",
        "    total_SP += country_capcity[asset]*strengh_points[asset]\n",
        "  return total_SP\n",
        "    "
      ],
      "execution_count": 28,
      "outputs": []
    },
    {
      "cell_type": "code",
      "metadata": {
        "id": "C3DiXYMUlwOY",
        "outputId": "76a392f5-dd3d-4460-fbe9-10c18c8c35d9",
        "colab": {
          "base_uri": "https://localhost:8080/",
          "height": 34
        }
      },
      "source": [
        "print(calc_SP(india_capacity, strengh_points))"
      ],
      "execution_count": 29,
      "outputs": [
        {
          "output_type": "stream",
          "text": [
            "1202421700.0\n"
          ],
          "name": "stdout"
        }
      ]
    },
    {
      "cell_type": "code",
      "metadata": {
        "id": "_J6f5d6QhbY2",
        "outputId": "9a94e949-2b1e-49de-8d66-9888df46e86a",
        "colab": {
          "base_uri": "https://localhost:8080/",
          "height": 34
        }
      },
      "source": [
        "print(div(5,2))"
      ],
      "execution_count": 5,
      "outputs": [
        {
          "output_type": "stream",
          "text": [
            "2.5\n"
          ],
          "name": "stdout"
        }
      ]
    },
    {
      "cell_type": "code",
      "metadata": {
        "id": "8sIk-L7nhbbJ",
        "outputId": "21b105ba-7962-4597-ede0-a3372c4a33f5",
        "colab": {
          "base_uri": "https://localhost:8080/",
          "height": 238
        }
      },
      "source": [
        "print(div(5,0))"
      ],
      "execution_count": 6,
      "outputs": [
        {
          "output_type": "error",
          "ename": "ZeroDivisionError",
          "evalue": "ignored",
          "traceback": [
            "\u001b[0;31m---------------------------------------------------------------------------\u001b[0m",
            "\u001b[0;31mZeroDivisionError\u001b[0m                         Traceback (most recent call last)",
            "\u001b[0;32m<ipython-input-6-922b0e494095>\u001b[0m in \u001b[0;36m<module>\u001b[0;34m()\u001b[0m\n\u001b[0;32m----> 1\u001b[0;31m \u001b[0mprint\u001b[0m\u001b[0;34m(\u001b[0m\u001b[0mdiv\u001b[0m\u001b[0;34m(\u001b[0m\u001b[0;36m5\u001b[0m\u001b[0;34m,\u001b[0m\u001b[0;36m0\u001b[0m\u001b[0;34m)\u001b[0m\u001b[0;34m)\u001b[0m\u001b[0;34m\u001b[0m\u001b[0;34m\u001b[0m\u001b[0m\n\u001b[0m",
            "\u001b[0;32m<ipython-input-4-1f40869500d2>\u001b[0m in \u001b[0;36mdiv\u001b[0;34m(a, b)\u001b[0m\n\u001b[1;32m      1\u001b[0m \u001b[0;32mdef\u001b[0m \u001b[0mdiv\u001b[0m\u001b[0;34m(\u001b[0m\u001b[0ma\u001b[0m\u001b[0;34m,\u001b[0m \u001b[0mb\u001b[0m\u001b[0;34m)\u001b[0m\u001b[0;34m:\u001b[0m\u001b[0;34m\u001b[0m\u001b[0;34m\u001b[0m\u001b[0m\n\u001b[0;32m----> 2\u001b[0;31m   \u001b[0;32mreturn\u001b[0m \u001b[0ma\u001b[0m\u001b[0;34m/\u001b[0m\u001b[0mb\u001b[0m\u001b[0;34m\u001b[0m\u001b[0;34m\u001b[0m\u001b[0m\n\u001b[0m",
            "\u001b[0;31mZeroDivisionError\u001b[0m: division by zero"
          ]
        }
      ]
    },
    {
      "cell_type": "code",
      "metadata": {
        "id": "KOxuejkAhbdV"
      },
      "source": [
        ""
      ],
      "execution_count": 3,
      "outputs": []
    },
    {
      "cell_type": "code",
      "metadata": {
        "id": "JVWUgP1Fiaxf"
      },
      "source": [
        ""
      ],
      "execution_count": null,
      "outputs": []
    },
    {
      "cell_type": "code",
      "metadata": {
        "id": "jiZ8LFsbhbfv"
      },
      "source": [
        ""
      ],
      "execution_count": 3,
      "outputs": []
    },
    {
      "cell_type": "code",
      "metadata": {
        "id": "azrLuN2rhbiE"
      },
      "source": [
        ""
      ],
      "execution_count": 3,
      "outputs": []
    },
    {
      "cell_type": "code",
      "metadata": {
        "id": "bEhos-zJhbke"
      },
      "source": [
        ""
      ],
      "execution_count": 3,
      "outputs": []
    },
    {
      "cell_type": "code",
      "metadata": {
        "id": "z5CDNvhDhbmm"
      },
      "source": [
        ""
      ],
      "execution_count": 3,
      "outputs": []
    },
    {
      "cell_type": "code",
      "metadata": {
        "id": "1MV2vaWZhbpA"
      },
      "source": [
        ""
      ],
      "execution_count": null,
      "outputs": []
    }
  ]
}
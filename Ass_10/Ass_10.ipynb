{
  "nbformat": 4,
  "nbformat_minor": 0,
  "metadata": {
    "colab": {
      "name": "Ass_10.ipynb",
      "provenance": [],
      "machine_shape": "hm",
      "authorship_tag": "ABX9TyMjm3a2tfldrW+fHrjhwqDP",
      "include_colab_link": true
    },
    "kernelspec": {
      "name": "python3",
      "display_name": "Python 3"
    },
    "accelerator": "GPU"
  },
  "cells": [
    {
      "cell_type": "markdown",
      "metadata": {
        "id": "view-in-github",
        "colab_type": "text"
      },
      "source": [
        "<a href=\"https://colab.research.google.com/github/TonyIssacJames/EPAI_submissions/blob/master/Ass_10/Ass_10.ipynb\" target=\"_parent\"><img src=\"https://colab.research.google.com/assets/colab-badge.svg\" alt=\"Open In Colab\"/></a>"
      ]
    },
    {
      "cell_type": "code",
      "metadata": {
        "id": "pIlW8Cap6xZ5"
      },
      "source": [
        "import random\n",
        "import pytest\n",
        "import inspect\n",
        "import re\n",
        "import random\n",
        "from collections import namedtuple\n",
        "\n",
        "from datetime import datetime\n",
        "#print(datetime.now())"
      ],
      "execution_count": 1,
      "outputs": []
    },
    {
      "cell_type": "code",
      "metadata": {
        "id": "FjR4IdGh7cSQ",
        "outputId": "438cda4f-96e0-4681-81d4-0c08f4ba4eba",
        "colab": {
          "base_uri": "https://localhost:8080/",
          "height": 159
        }
      },
      "source": [
        "!pip install Faker"
      ],
      "execution_count": 2,
      "outputs": [
        {
          "output_type": "stream",
          "text": [
            "Collecting Faker\n",
            "\u001b[?25l  Downloading https://files.pythonhosted.org/packages/9d/3c/4fc4a53a24c0ae040616815eb18e73b00832d2eb9275da3837c8345c68a6/Faker-4.1.3-py3-none-any.whl (1.0MB)\n",
            "\r\u001b[K     |▎                               | 10kB 21.9MB/s eta 0:00:01\r\u001b[K     |▋                               | 20kB 6.4MB/s eta 0:00:01\r\u001b[K     |█                               | 30kB 7.8MB/s eta 0:00:01\r\u001b[K     |█▎                              | 40kB 8.4MB/s eta 0:00:01\r\u001b[K     |█▋                              | 51kB 7.4MB/s eta 0:00:01\r\u001b[K     |██                              | 61kB 8.3MB/s eta 0:00:01\r\u001b[K     |██▏                             | 71kB 8.5MB/s eta 0:00:01\r\u001b[K     |██▌                             | 81kB 8.3MB/s eta 0:00:01\r\u001b[K     |██▉                             | 92kB 8.0MB/s eta 0:00:01\r\u001b[K     |███▏                            | 102kB 8.2MB/s eta 0:00:01\r\u001b[K     |███▌                            | 112kB 8.2MB/s eta 0:00:01\r\u001b[K     |███▉                            | 122kB 8.2MB/s eta 0:00:01\r\u001b[K     |████                            | 133kB 8.2MB/s eta 0:00:01\r\u001b[K     |████▍                           | 143kB 8.2MB/s eta 0:00:01\r\u001b[K     |████▊                           | 153kB 8.2MB/s eta 0:00:01\r\u001b[K     |█████                           | 163kB 8.2MB/s eta 0:00:01\r\u001b[K     |█████▍                          | 174kB 8.2MB/s eta 0:00:01\r\u001b[K     |█████▊                          | 184kB 8.2MB/s eta 0:00:01\r\u001b[K     |██████                          | 194kB 8.2MB/s eta 0:00:01\r\u001b[K     |██████▎                         | 204kB 8.2MB/s eta 0:00:01\r\u001b[K     |██████▋                         | 215kB 8.2MB/s eta 0:00:01\r\u001b[K     |███████                         | 225kB 8.2MB/s eta 0:00:01\r\u001b[K     |███████▎                        | 235kB 8.2MB/s eta 0:00:01\r\u001b[K     |███████▋                        | 245kB 8.2MB/s eta 0:00:01\r\u001b[K     |███████▉                        | 256kB 8.2MB/s eta 0:00:01\r\u001b[K     |████████▏                       | 266kB 8.2MB/s eta 0:00:01\r\u001b[K     |████████▌                       | 276kB 8.2MB/s eta 0:00:01\r\u001b[K     |████████▉                       | 286kB 8.2MB/s eta 0:00:01\r\u001b[K     |█████████▏                      | 296kB 8.2MB/s eta 0:00:01\r\u001b[K     |█████████▌                      | 307kB 8.2MB/s eta 0:00:01\r\u001b[K     |█████████▊                      | 317kB 8.2MB/s eta 0:00:01\r\u001b[K     |██████████                      | 327kB 8.2MB/s eta 0:00:01\r\u001b[K     |██████████▍                     | 337kB 8.2MB/s eta 0:00:01\r\u001b[K     |██████████▊                     | 348kB 8.2MB/s eta 0:00:01\r\u001b[K     |███████████                     | 358kB 8.2MB/s eta 0:00:01\r\u001b[K     |███████████▍                    | 368kB 8.2MB/s eta 0:00:01\r\u001b[K     |███████████▋                    | 378kB 8.2MB/s eta 0:00:01\r\u001b[K     |████████████                    | 389kB 8.2MB/s eta 0:00:01\r\u001b[K     |████████████▎                   | 399kB 8.2MB/s eta 0:00:01\r\u001b[K     |████████████▋                   | 409kB 8.2MB/s eta 0:00:01\r\u001b[K     |█████████████                   | 419kB 8.2MB/s eta 0:00:01\r\u001b[K     |█████████████▎                  | 430kB 8.2MB/s eta 0:00:01\r\u001b[K     |█████████████▌                  | 440kB 8.2MB/s eta 0:00:01\r\u001b[K     |█████████████▉                  | 450kB 8.2MB/s eta 0:00:01\r\u001b[K     |██████████████▏                 | 460kB 8.2MB/s eta 0:00:01\r\u001b[K     |██████████████▌                 | 471kB 8.2MB/s eta 0:00:01\r\u001b[K     |██████████████▉                 | 481kB 8.2MB/s eta 0:00:01\r\u001b[K     |███████████████▏                | 491kB 8.2MB/s eta 0:00:01\r\u001b[K     |███████████████▌                | 501kB 8.2MB/s eta 0:00:01\r\u001b[K     |███████████████▊                | 512kB 8.2MB/s eta 0:00:01\r\u001b[K     |████████████████                | 522kB 8.2MB/s eta 0:00:01\r\u001b[K     |████████████████▍               | 532kB 8.2MB/s eta 0:00:01\r\u001b[K     |████████████████▊               | 542kB 8.2MB/s eta 0:00:01\r\u001b[K     |█████████████████               | 552kB 8.2MB/s eta 0:00:01\r\u001b[K     |█████████████████▍              | 563kB 8.2MB/s eta 0:00:01\r\u001b[K     |█████████████████▋              | 573kB 8.2MB/s eta 0:00:01\r\u001b[K     |██████████████████              | 583kB 8.2MB/s eta 0:00:01\r\u001b[K     |██████████████████▎             | 593kB 8.2MB/s eta 0:00:01\r\u001b[K     |██████████████████▋             | 604kB 8.2MB/s eta 0:00:01\r\u001b[K     |███████████████████             | 614kB 8.2MB/s eta 0:00:01\r\u001b[K     |███████████████████▎            | 624kB 8.2MB/s eta 0:00:01\r\u001b[K     |███████████████████▌            | 634kB 8.2MB/s eta 0:00:01\r\u001b[K     |███████████████████▉            | 645kB 8.2MB/s eta 0:00:01\r\u001b[K     |████████████████████▏           | 655kB 8.2MB/s eta 0:00:01\r\u001b[K     |████████████████████▌           | 665kB 8.2MB/s eta 0:00:01\r\u001b[K     |████████████████████▉           | 675kB 8.2MB/s eta 0:00:01\r\u001b[K     |█████████████████████▏          | 686kB 8.2MB/s eta 0:00:01\r\u001b[K     |█████████████████████▍          | 696kB 8.2MB/s eta 0:00:01\r\u001b[K     |█████████████████████▊          | 706kB 8.2MB/s eta 0:00:01\r\u001b[K     |██████████████████████          | 716kB 8.2MB/s eta 0:00:01\r\u001b[K     |██████████████████████▍         | 727kB 8.2MB/s eta 0:00:01\r\u001b[K     |██████████████████████▊         | 737kB 8.2MB/s eta 0:00:01\r\u001b[K     |███████████████████████         | 747kB 8.2MB/s eta 0:00:01\r\u001b[K     |███████████████████████▎        | 757kB 8.2MB/s eta 0:00:01\r\u001b[K     |███████████████████████▋        | 768kB 8.2MB/s eta 0:00:01\r\u001b[K     |████████████████████████        | 778kB 8.2MB/s eta 0:00:01\r\u001b[K     |████████████████████████▎       | 788kB 8.2MB/s eta 0:00:01\r\u001b[K     |████████████████████████▋       | 798kB 8.2MB/s eta 0:00:01\r\u001b[K     |█████████████████████████       | 808kB 8.2MB/s eta 0:00:01\r\u001b[K     |█████████████████████████▏      | 819kB 8.2MB/s eta 0:00:01\r\u001b[K     |█████████████████████████▌      | 829kB 8.2MB/s eta 0:00:01\r\u001b[K     |█████████████████████████▉      | 839kB 8.2MB/s eta 0:00:01\r\u001b[K     |██████████████████████████▏     | 849kB 8.2MB/s eta 0:00:01\r\u001b[K     |██████████████████████████▌     | 860kB 8.2MB/s eta 0:00:01\r\u001b[K     |██████████████████████████▉     | 870kB 8.2MB/s eta 0:00:01\r\u001b[K     |███████████████████████████     | 880kB 8.2MB/s eta 0:00:01\r\u001b[K     |███████████████████████████▍    | 890kB 8.2MB/s eta 0:00:01\r\u001b[K     |███████████████████████████▊    | 901kB 8.2MB/s eta 0:00:01\r\u001b[K     |████████████████████████████    | 911kB 8.2MB/s eta 0:00:01\r\u001b[K     |████████████████████████████▍   | 921kB 8.2MB/s eta 0:00:01\r\u001b[K     |████████████████████████████▊   | 931kB 8.2MB/s eta 0:00:01\r\u001b[K     |█████████████████████████████   | 942kB 8.2MB/s eta 0:00:01\r\u001b[K     |█████████████████████████████▎  | 952kB 8.2MB/s eta 0:00:01\r\u001b[K     |█████████████████████████████▋  | 962kB 8.2MB/s eta 0:00:01\r\u001b[K     |██████████████████████████████  | 972kB 8.2MB/s eta 0:00:01\r\u001b[K     |██████████████████████████████▎ | 983kB 8.2MB/s eta 0:00:01\r\u001b[K     |██████████████████████████████▋ | 993kB 8.2MB/s eta 0:00:01\r\u001b[K     |███████████████████████████████ | 1.0MB 8.2MB/s eta 0:00:01\r\u001b[K     |███████████████████████████████▏| 1.0MB 8.2MB/s eta 0:00:01\r\u001b[K     |███████████████████████████████▌| 1.0MB 8.2MB/s eta 0:00:01\r\u001b[K     |███████████████████████████████▉| 1.0MB 8.2MB/s eta 0:00:01\r\u001b[K     |████████████████████████████████| 1.0MB 8.2MB/s \n",
            "\u001b[?25hRequirement already satisfied: text-unidecode==1.3 in /usr/local/lib/python3.6/dist-packages (from Faker) (1.3)\n",
            "Requirement already satisfied: python-dateutil>=2.4 in /usr/local/lib/python3.6/dist-packages (from Faker) (2.8.1)\n",
            "Requirement already satisfied: six>=1.5 in /usr/local/lib/python3.6/dist-packages (from python-dateutil>=2.4->Faker) (1.15.0)\n",
            "Installing collected packages: Faker\n",
            "Successfully installed Faker-4.1.3\n"
          ],
          "name": "stdout"
        }
      ]
    },
    {
      "cell_type": "code",
      "metadata": {
        "id": "SKr9eCpJ7cmy"
      },
      "source": [
        "from faker import Faker\n"
      ],
      "execution_count": 3,
      "outputs": []
    },
    {
      "cell_type": "code",
      "metadata": {
        "id": "5hkm-UUl7cp3"
      },
      "source": [
        "fake = Faker()\n",
        "\n"
      ],
      "execution_count": 6,
      "outputs": []
    },
    {
      "cell_type": "code",
      "metadata": {
        "id": "DrtngG5L7csh",
        "outputId": "30bcdf71-bc19-4500-f1ca-c41985dbb251",
        "colab": {
          "base_uri": "https://localhost:8080/",
          "height": 301
        }
      },
      "source": [
        "fake.profile()"
      ],
      "execution_count": 7,
      "outputs": [
        {
          "output_type": "execute_result",
          "data": {
            "text/plain": [
              "{'address': '353 Justin Loaf\\nSouth Tinamouth, NH 30884',\n",
              " 'birthdate': datetime.date(1941, 9, 17),\n",
              " 'blood_group': 'O+',\n",
              " 'company': 'Rivera-Erickson',\n",
              " 'current_location': (Decimal('58.625362'), Decimal('73.696992')),\n",
              " 'job': 'Child psychotherapist',\n",
              " 'mail': 'davidjennings@hotmail.com',\n",
              " 'name': 'Andrew Lane',\n",
              " 'residence': 'Unit 3285 Box 8994\\nDPO AP 51358',\n",
              " 'sex': 'M',\n",
              " 'ssn': '764-20-7905',\n",
              " 'username': 'garyglenn',\n",
              " 'website': ['https://www.tapia.com/',\n",
              "  'http://woods-welch.com/',\n",
              "  'http://mitchell.com/',\n",
              "  'https://jones.net/']}"
            ]
          },
          "metadata": {
            "tags": []
          },
          "execution_count": 7
        }
      ]
    },
    {
      "cell_type": "code",
      "metadata": {
        "id": "cb9Iwv3h7cuy"
      },
      "source": [
        ""
      ],
      "execution_count": 1,
      "outputs": []
    },
    {
      "cell_type": "code",
      "metadata": {
        "id": "Q-SLCY9Z7cxH"
      },
      "source": [
        ""
      ],
      "execution_count": 1,
      "outputs": []
    },
    {
      "cell_type": "code",
      "metadata": {
        "id": "eLTYibIj7czb"
      },
      "source": [
        ""
      ],
      "execution_count": 1,
      "outputs": []
    },
    {
      "cell_type": "code",
      "metadata": {
        "id": "m1kWMGHc7c1q"
      },
      "source": [
        ""
      ],
      "execution_count": 1,
      "outputs": []
    },
    {
      "cell_type": "code",
      "metadata": {
        "id": "zSSICJPD7c4S"
      },
      "source": [
        ""
      ],
      "execution_count": 1,
      "outputs": []
    },
    {
      "cell_type": "code",
      "metadata": {
        "id": "9FGUtL5J7c6l"
      },
      "source": [
        ""
      ],
      "execution_count": null,
      "outputs": []
    }
  ]
}
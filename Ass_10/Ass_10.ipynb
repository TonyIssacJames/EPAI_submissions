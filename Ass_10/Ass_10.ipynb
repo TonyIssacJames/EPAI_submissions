{
  "nbformat": 4,
  "nbformat_minor": 0,
  "metadata": {
    "colab": {
      "name": "Ass_10.ipynb",
      "provenance": [],
      "machine_shape": "hm",
      "authorship_tag": "ABX9TyNYet+dXJ0NJdqnTuEVBVJv",
      "include_colab_link": true
    },
    "kernelspec": {
      "name": "python3",
      "display_name": "Python 3"
    },
    "accelerator": "GPU"
  },
  "cells": [
    {
      "cell_type": "markdown",
      "metadata": {
        "id": "view-in-github",
        "colab_type": "text"
      },
      "source": [
        "<a href=\"https://colab.research.google.com/github/TonyIssacJames/EPAI_submissions/blob/master/Ass_10/Ass_10.ipynb\" target=\"_parent\"><img src=\"https://colab.research.google.com/assets/colab-badge.svg\" alt=\"Open In Colab\"/></a>"
      ]
    },
    {
      "cell_type": "code",
      "metadata": {
        "id": "pIlW8Cap6xZ5"
      },
      "source": [
        "import random\n",
        "import pytest\n",
        "import inspect\n",
        "import re\n",
        "import random\n",
        "from random import randint, random\n",
        "from collections import namedtuple\n",
        "from collections.abc import Iterable\n",
        "from datetime import datetime\n",
        "#print(datetime.now())"
      ],
      "execution_count": 14,
      "outputs": []
    },
    {
      "cell_type": "code",
      "metadata": {
        "id": "FjR4IdGh7cSQ",
        "outputId": "46a42b0f-0923-449e-8324-3d789579f22c",
        "colab": {
          "base_uri": "https://localhost:8080/",
          "height": 88
        }
      },
      "source": [
        "!pip install Faker"
      ],
      "execution_count": 9,
      "outputs": [
        {
          "output_type": "stream",
          "text": [
            "Requirement already satisfied: Faker in /usr/local/lib/python3.6/dist-packages (4.1.3)\n",
            "Requirement already satisfied: python-dateutil>=2.4 in /usr/local/lib/python3.6/dist-packages (from Faker) (2.8.1)\n",
            "Requirement already satisfied: text-unidecode==1.3 in /usr/local/lib/python3.6/dist-packages (from Faker) (1.3)\n",
            "Requirement already satisfied: six>=1.5 in /usr/local/lib/python3.6/dist-packages (from python-dateutil>=2.4->Faker) (1.15.0)\n"
          ],
          "name": "stdout"
        }
      ]
    },
    {
      "cell_type": "code",
      "metadata": {
        "id": "SKr9eCpJ7cmy"
      },
      "source": [
        "from faker import Faker\n"
      ],
      "execution_count": 10,
      "outputs": []
    },
    {
      "cell_type": "code",
      "metadata": {
        "id": "5hkm-UUl7cp3"
      },
      "source": [
        "fake = Faker()\n",
        "\n"
      ],
      "execution_count": 11,
      "outputs": []
    },
    {
      "cell_type": "code",
      "metadata": {
        "id": "DrtngG5L7csh"
      },
      "source": [
        "profile = fake.profile()"
      ],
      "execution_count": 16,
      "outputs": []
    },
    {
      "cell_type": "code",
      "metadata": {
        "id": "PdhxnmZwV7_z",
        "outputId": "53c0ebd4-a158-4a4d-fa3f-fc824e34ff6e",
        "colab": {
          "base_uri": "https://localhost:8080/",
          "height": 248
        }
      },
      "source": [
        "profile"
      ],
      "execution_count": 22,
      "outputs": [
        {
          "output_type": "execute_result",
          "data": {
            "text/plain": [
              "{'address': '8286 Morris Squares Apt. 100\\nLake Sierra, DC 38832',\n",
              " 'birthdate': datetime.date(1923, 10, 5),\n",
              " 'blood_group': 'B-',\n",
              " 'company': 'Payne-Moore',\n",
              " 'current_location': (Decimal('-14.8701195'), Decimal('-15.778242')),\n",
              " 'job': 'Learning mentor',\n",
              " 'mail': 'jacob41@hotmail.com',\n",
              " 'name': 'Emily Jimenez',\n",
              " 'residence': 'Unit 9942 Box 3234\\nDPO AP 47818',\n",
              " 'sex': 'F',\n",
              " 'ssn': '110-34-4809',\n",
              " 'username': 'vkidd',\n",
              " 'website': ['https://www.keller.com/']}"
            ]
          },
          "metadata": {
            "tags": []
          },
          "execution_count": 22
        }
      ]
    },
    {
      "cell_type": "code",
      "metadata": {
        "id": "p8O-Kb4tPV1V",
        "outputId": "b991c3ca-d3d8-4ce0-d8e4-6039fddd8ccd",
        "colab": {
          "base_uri": "https://localhost:8080/",
          "height": 35
        }
      },
      "source": [
        "type(profile)"
      ],
      "execution_count": 17,
      "outputs": [
        {
          "output_type": "execute_result",
          "data": {
            "text/plain": [
              "dict"
            ]
          },
          "metadata": {
            "tags": []
          },
          "execution_count": 17
        }
      ]
    },
    {
      "cell_type": "code",
      "metadata": {
        "id": "_fC-qYeaPWAK",
        "outputId": "24060ff6-33e8-48fd-b803-c2123c57e18c",
        "colab": {
          "base_uri": "https://localhost:8080/",
          "height": 248
        }
      },
      "source": [
        "t = [*profile.values()]\n",
        "t"
      ],
      "execution_count": 21,
      "outputs": [
        {
          "output_type": "execute_result",
          "data": {
            "text/plain": [
              "['Learning mentor',\n",
              " 'Payne-Moore',\n",
              " '110-34-4809',\n",
              " 'Unit 9942 Box 3234\\nDPO AP 47818',\n",
              " (Decimal('-14.8701195'), Decimal('-15.778242')),\n",
              " 'B-',\n",
              " ['https://www.keller.com/'],\n",
              " 'vkidd',\n",
              " 'Emily Jimenez',\n",
              " 'F',\n",
              " '8286 Morris Squares Apt. 100\\nLake Sierra, DC 38832',\n",
              " 'jacob41@hotmail.com',\n",
              " datetime.date(1923, 10, 5)]"
            ]
          },
          "metadata": {
            "tags": []
          },
          "execution_count": 21
        }
      ]
    },
    {
      "cell_type": "code",
      "metadata": {
        "id": "dvypia9QVykw",
        "outputId": "771337dc-fc34-4aca-eb2f-61d7aea035ed",
        "colab": {
          "base_uri": "https://localhost:8080/",
          "height": 88
        }
      },
      "source": [
        "n1 = profile.get('username', None)\n",
        "n2 = profile.get('current_location', None)\n",
        "n3 = profile.get('blood_group', None)\n",
        "\n",
        "print(type(n1), type(n2), type(n2))\n",
        "print(n1, n2, n3)\n",
        "print(type(n2[0]))\n",
        "print(n2[0])"
      ],
      "execution_count": 27,
      "outputs": [
        {
          "output_type": "stream",
          "text": [
            "<class 'str'> <class 'tuple'> <class 'tuple'>\n",
            "vkidd (Decimal('-14.8701195'), Decimal('-15.778242')) B-\n",
            "<class 'decimal.Decimal'>\n",
            "-14.8701195\n"
          ],
          "name": "stdout"
        }
      ]
    },
    {
      "cell_type": "code",
      "metadata": {
        "id": "chAfWXSAVyue"
      },
      "source": [
        ""
      ],
      "execution_count": null,
      "outputs": []
    },
    {
      "cell_type": "code",
      "metadata": {
        "id": "zFk2hwFaVy27"
      },
      "source": [
        ""
      ],
      "execution_count": null,
      "outputs": []
    },
    {
      "cell_type": "markdown",
      "metadata": {
        "id": "6uu2UH9GLIBa"
      },
      "source": [
        "### Use Faker library to get 10000 random profiles. \n",
        "Using namedtuple, \n",
        "1. calculate the largest blood type, \n",
        "2. mean-current_location, \n",
        "3. oldest_person_age and \n",
        "4. average age (add proper doc-strings)."
      ]
    },
    {
      "cell_type": "code",
      "metadata": {
        "id": "cb9Iwv3h7cuy"
      },
      "source": [
        "ProfileData = namedtuple('ProfileData', 'blood_type location age')"
      ],
      "execution_count": 29,
      "outputs": []
    },
    {
      "cell_type": "code",
      "metadata": {
        "id": "Q-SLCY9Z7cxH"
      },
      "source": [
        "tlist_of_profies = tuple()"
      ],
      "execution_count": 36,
      "outputs": []
    },
    {
      "cell_type": "code",
      "metadata": {
        "id": "eLTYibIj7czb"
      },
      "source": [
        "NoOfPeople = 10"
      ],
      "execution_count": 37,
      "outputs": []
    },
    {
      "cell_type": "code",
      "metadata": {
        "id": "m1kWMGHc7c1q"
      },
      "source": [
        "for i in range(NoOfPeople):\n",
        "  profile = fake.profile()\n",
        "  tlist_of_profies += ProfileData(profile.get('blood_group', None), profile.get('current_location', None), profile.get('birthdate', None) )"
      ],
      "execution_count": 38,
      "outputs": []
    },
    {
      "cell_type": "code",
      "metadata": {
        "id": "zSSICJPD7c4S",
        "outputId": "e685fd42-5af4-4f1f-d838-e023abbc96ba",
        "colab": {
          "base_uri": "https://localhost:8080/",
          "height": 550
        }
      },
      "source": [
        "tlist_of_profies"
      ],
      "execution_count": 39,
      "outputs": [
        {
          "output_type": "execute_result",
          "data": {
            "text/plain": [
              "('AB-',\n",
              " (Decimal('80.678635'), Decimal('-148.676740')),\n",
              " datetime.date(1958, 2, 26),\n",
              " 'O+',\n",
              " (Decimal('-52.889662'), Decimal('29.351545')),\n",
              " datetime.date(1958, 8, 17),\n",
              " 'AB-',\n",
              " (Decimal('62.284552'), Decimal('117.893013')),\n",
              " datetime.date(2019, 11, 17),\n",
              " 'AB-',\n",
              " (Decimal('-67.2983375'), Decimal('96.625196')),\n",
              " datetime.date(1964, 2, 8),\n",
              " 'AB-',\n",
              " (Decimal('41.510249'), Decimal('-40.196451')),\n",
              " datetime.date(1992, 1, 30),\n",
              " 'A-',\n",
              " (Decimal('-86.7073625'), Decimal('77.761245')),\n",
              " datetime.date(2010, 6, 2),\n",
              " 'O-',\n",
              " (Decimal('75.185301'), Decimal('-38.167574')),\n",
              " datetime.date(1959, 12, 5),\n",
              " 'O+',\n",
              " (Decimal('-1.008016'), Decimal('-147.258674')),\n",
              " datetime.date(1929, 10, 26),\n",
              " 'A+',\n",
              " (Decimal('-14.0915605'), Decimal('-126.443759')),\n",
              " datetime.date(2006, 3, 17),\n",
              " 'O+',\n",
              " (Decimal('57.9115535'), Decimal('-84.788715')),\n",
              " datetime.date(1964, 9, 29))"
            ]
          },
          "metadata": {
            "tags": []
          },
          "execution_count": 39
        }
      ]
    },
    {
      "cell_type": "code",
      "metadata": {
        "id": "9FGUtL5J7c6l"
      },
      "source": [
        ""
      ],
      "execution_count": 12,
      "outputs": []
    }
  ]
}